{
  "nbformat": 4,
  "nbformat_minor": 0,
  "metadata": {
    "colab": {
      "provenance": [],
      "include_colab_link": true
    },
    "kernelspec": {
      "name": "python3",
      "display_name": "Python 3"
    },
    "language_info": {
      "name": "python"
    },
    "accelerator": "GPU"
  },
  "cells": [
    {
      "cell_type": "markdown",
      "metadata": {
        "id": "view-in-github",
        "colab_type": "text"
      },
      "source": [
        "<a href=\"https://colab.research.google.com/github/codeofelango/CV_Architecture-type/blob/main/Alexnet.ipynb\" target=\"_parent\"><img src=\"https://colab.research.google.com/assets/colab-badge.svg\" alt=\"Open In Colab\"/></a>"
      ]
    },
    {
      "cell_type": "code",
      "execution_count": null,
      "metadata": {
        "id": "-YUhuwSNWkIR"
      },
      "outputs": [],
      "source": [
        "import tensorflow as tf\n",
        "from tensorflow import keras\n",
        "import keras\n",
        "from keras.models import Sequential\n",
        "from keras.layers import Dense, Activation, Dropout, Flatten, Conv2D, MaxPooling2D\n",
        "from tensorflow.keras.layers import BatchNormalization"
      ]
    },
    {
      "cell_type": "code",
      "source": [
        "!pip install tflearn "
      ],
      "metadata": {
        "colab": {
          "base_uri": "https://localhost:8080/"
        },
        "id": "iuIEOwl7W9CL",
        "outputId": "118104f0-f7d9-466f-ae6f-6538bac7f3ff"
      },
      "execution_count": null,
      "outputs": [
        {
          "output_type": "stream",
          "name": "stdout",
          "text": [
            "Looking in indexes: https://pypi.org/simple, https://us-python.pkg.dev/colab-wheels/public/simple/\n",
            "Collecting tflearn\n",
            "  Downloading tflearn-0.5.0.tar.gz (107 kB)\n",
            "\u001b[K     |████████████████████████████████| 107 kB 5.1 MB/s \n",
            "\u001b[?25hRequirement already satisfied: numpy in /usr/local/lib/python3.7/dist-packages (from tflearn) (1.21.6)\n",
            "Requirement already satisfied: six in /usr/local/lib/python3.7/dist-packages (from tflearn) (1.15.0)\n",
            "Requirement already satisfied: Pillow in /usr/local/lib/python3.7/dist-packages (from tflearn) (7.1.2)\n",
            "Building wheels for collected packages: tflearn\n",
            "  Building wheel for tflearn (setup.py) ... \u001b[?25l\u001b[?25hdone\n",
            "  Created wheel for tflearn: filename=tflearn-0.5.0-py3-none-any.whl size=127299 sha256=c5d6b50a844e37f7afa755c83f35dcd320eb8b680c9089df4ff340e1f69242fc\n",
            "  Stored in directory: /root/.cache/pip/wheels/5f/14/2e/1d8e28cc47a5a931a2fb82438c9e37ef9246cc6a3774520271\n",
            "Successfully built tflearn\n",
            "Installing collected packages: tflearn\n",
            "Successfully installed tflearn-0.5.0\n"
          ]
        }
      ]
    },
    {
      "cell_type": "code",
      "source": [
        "# Get Data\n",
        "import tflearn.datasets.oxflower17 as oxflower17\n",
        "x, y = oxflower17.load_data(one_hot=True)"
      ],
      "metadata": {
        "colab": {
          "base_uri": "https://localhost:8080/"
        },
        "id": "c60kGVJ5XCpN",
        "outputId": "97041f86-eae9-4a3d-88a3-e855760adc04"
      },
      "execution_count": null,
      "outputs": [
        {
          "output_type": "stream",
          "name": "stderr",
          "text": [
            "WARNING:tensorflow:From /usr/local/lib/python3.7/dist-packages/tensorflow/python/compat/v2_compat.py:107: disable_resource_variables (from tensorflow.python.ops.variable_scope) is deprecated and will be removed in a future version.\n",
            "Instructions for updating:\n",
            "non-resource variables are not supported in the long term\n"
          ]
        },
        {
          "output_type": "stream",
          "name": "stdout",
          "text": [
            "Downloading Oxford 17 category Flower Dataset, Please wait...\n"
          ]
        },
        {
          "output_type": "stream",
          "name": "stderr",
          "text": [
            "100.0% 60276736 / 60270631\n"
          ]
        },
        {
          "output_type": "stream",
          "name": "stdout",
          "text": [
            "Succesfully downloaded 17flowers.tgz 60270631 bytes.\n",
            "File Extracted\n",
            "Starting to parse images...\n",
            "Parsing Done!\n"
          ]
        }
      ]
    },
    {
      "cell_type": "code",
      "source": [
        "x"
      ],
      "metadata": {
        "colab": {
          "base_uri": "https://localhost:8080/"
        },
        "id": "Ermoh8NOXUHZ",
        "outputId": "97ed74c9-6280-4f1c-f160-409419627747"
      },
      "execution_count": null,
      "outputs": [
        {
          "output_type": "execute_result",
          "data": {
            "text/plain": [
              "array([[[[0.9372549 , 0.9372549 , 0.93333334],\n",
              "         [0.9607843 , 0.9607843 , 0.9529412 ],\n",
              "         [0.9529412 , 0.95686275, 0.9372549 ],\n",
              "         ...,\n",
              "         [0.23921569, 0.1882353 , 0.2       ],\n",
              "         [0.27058825, 0.21176471, 0.22352941],\n",
              "         [0.28235295, 0.22352941, 0.23137255]],\n",
              "\n",
              "        [[0.96862745, 0.96862745, 0.96862745],\n",
              "         [1.        , 1.        , 0.99607843],\n",
              "         [0.99215686, 0.99215686, 0.9843137 ],\n",
              "         ...,\n",
              "         [0.2509804 , 0.2       , 0.20784314],\n",
              "         [0.2784314 , 0.21960784, 0.23137255],\n",
              "         [0.29411766, 0.23137255, 0.24313726]],\n",
              "\n",
              "        [[0.9411765 , 0.9411765 , 0.9529412 ],\n",
              "         [0.9882353 , 0.9882353 , 0.99215686],\n",
              "         [0.96862745, 0.96862745, 0.96862745],\n",
              "         ...,\n",
              "         [0.23921569, 0.1882353 , 0.19607843],\n",
              "         [0.27058825, 0.20784314, 0.21960784],\n",
              "         [0.28235295, 0.21960784, 0.23137255]],\n",
              "\n",
              "        ...,\n",
              "\n",
              "        [[0.05098039, 0.07058824, 0.04313726],\n",
              "         [0.05882353, 0.07843138, 0.05098039],\n",
              "         [0.05490196, 0.07450981, 0.04705882],\n",
              "         ...,\n",
              "         [0.06666667, 0.01960784, 0.06666667],\n",
              "         [0.07058824, 0.02352941, 0.07058824],\n",
              "         [0.07058824, 0.02352941, 0.07058824]],\n",
              "\n",
              "        [[0.05490196, 0.07843138, 0.03921569],\n",
              "         [0.05490196, 0.07843138, 0.04313726],\n",
              "         [0.05490196, 0.07843138, 0.04313726],\n",
              "         ...,\n",
              "         [0.0627451 , 0.01568628, 0.05490196],\n",
              "         [0.0627451 , 0.01568628, 0.05490196],\n",
              "         [0.06666667, 0.01960784, 0.0627451 ]],\n",
              "\n",
              "        [[0.05490196, 0.07843138, 0.03921569],\n",
              "         [0.05490196, 0.07843138, 0.03529412],\n",
              "         [0.05490196, 0.07843138, 0.03529412],\n",
              "         ...,\n",
              "         [0.0627451 , 0.01568628, 0.05490196],\n",
              "         [0.0627451 , 0.01568628, 0.05490196],\n",
              "         [0.06666667, 0.01960784, 0.05882353]]],\n",
              "\n",
              "\n",
              "       [[[0.40392157, 0.5058824 , 0.2509804 ],\n",
              "         [0.40392157, 0.5058824 , 0.2509804 ],\n",
              "         [0.40392157, 0.5058824 , 0.2509804 ],\n",
              "         ...,\n",
              "         [0.28627452, 0.32156864, 0.21960784],\n",
              "         [0.27450982, 0.2901961 , 0.22352941],\n",
              "         [0.25490198, 0.2627451 , 0.21176471]],\n",
              "\n",
              "        [[0.39607844, 0.49803922, 0.24313726],\n",
              "         [0.39607844, 0.49803922, 0.24313726],\n",
              "         [0.39607844, 0.49803922, 0.24313726],\n",
              "         ...,\n",
              "         [0.30588236, 0.3372549 , 0.24705882],\n",
              "         [0.29411766, 0.3019608 , 0.25882354],\n",
              "         [0.2627451 , 0.26666668, 0.23529412]],\n",
              "\n",
              "        [[0.3882353 , 0.49019608, 0.23529412],\n",
              "         [0.3882353 , 0.49019608, 0.23529412],\n",
              "         [0.3882353 , 0.49019608, 0.23529412],\n",
              "         ...,\n",
              "         [0.3137255 , 0.3372549 , 0.27450982],\n",
              "         [0.27450982, 0.2784314 , 0.2627451 ],\n",
              "         [0.22745098, 0.22352941, 0.22745098]],\n",
              "\n",
              "        ...,\n",
              "\n",
              "        [[0.14901961, 0.14117648, 0.10588235],\n",
              "         [0.14509805, 0.14509805, 0.10196079],\n",
              "         [0.14117648, 0.14901961, 0.09019608],\n",
              "         ...,\n",
              "         [0.03921569, 0.01960784, 0.02745098],\n",
              "         [0.01960784, 0.01960784, 0.02352941],\n",
              "         [0.01960784, 0.02352941, 0.01960784]],\n",
              "\n",
              "        [[0.1764706 , 0.16078432, 0.15686275],\n",
              "         [0.17254902, 0.16078432, 0.15294118],\n",
              "         [0.16470589, 0.16470589, 0.14117648],\n",
              "         ...,\n",
              "         [0.04705882, 0.03921569, 0.01568628],\n",
              "         [0.03529412, 0.03529412, 0.03137255],\n",
              "         [0.03137255, 0.03529412, 0.03529412]],\n",
              "\n",
              "        [[0.22745098, 0.19607843, 0.22745098],\n",
              "         [0.22352941, 0.2       , 0.22352941],\n",
              "         [0.21568628, 0.20392157, 0.21176471],\n",
              "         ...,\n",
              "         [0.14901961, 0.15294118, 0.10980392],\n",
              "         [0.07843138, 0.07843138, 0.07058824],\n",
              "         [0.03921569, 0.03921569, 0.03921569]]],\n",
              "\n",
              "\n",
              "       [[[0.09803922, 0.08627451, 0.06666667],\n",
              "         [0.10588235, 0.09411765, 0.07450981],\n",
              "         [0.10196079, 0.09019608, 0.07058824],\n",
              "         ...,\n",
              "         [0.11372549, 0.06666667, 0.05882353],\n",
              "         [0.11372549, 0.07058824, 0.0627451 ],\n",
              "         [0.1254902 , 0.08235294, 0.07450981]],\n",
              "\n",
              "        [[0.09803922, 0.08627451, 0.06666667],\n",
              "         [0.10588235, 0.09411765, 0.07450981],\n",
              "         [0.10196079, 0.09019608, 0.07058824],\n",
              "         ...,\n",
              "         [0.11372549, 0.07058824, 0.0627451 ],\n",
              "         [0.11764706, 0.07450981, 0.06666667],\n",
              "         [0.13333334, 0.09019608, 0.08235294]],\n",
              "\n",
              "        [[0.10196079, 0.08235294, 0.06666667],\n",
              "         [0.10980392, 0.09019608, 0.07450981],\n",
              "         [0.10588235, 0.08627451, 0.07058824],\n",
              "         ...,\n",
              "         [0.11764706, 0.07450981, 0.06666667],\n",
              "         [0.12156863, 0.07843138, 0.07058824],\n",
              "         [0.13725491, 0.09411765, 0.08627451]],\n",
              "\n",
              "        ...,\n",
              "\n",
              "        [[0.5058824 , 0.35686275, 0.24313726],\n",
              "         [0.5019608 , 0.3647059 , 0.23921569],\n",
              "         [0.3019608 , 0.2       , 0.09411765],\n",
              "         ...,\n",
              "         [0.72156864, 0.6509804 , 0.54901963],\n",
              "         [0.60784316, 0.627451  , 0.49803922],\n",
              "         [0.4509804 , 0.5058824 , 0.42745098]],\n",
              "\n",
              "        [[0.47058824, 0.36078432, 0.29411766],\n",
              "         [0.47058824, 0.37254903, 0.2901961 ],\n",
              "         [0.43137255, 0.30588236, 0.18431373],\n",
              "         ...,\n",
              "         [0.6392157 , 0.6117647 , 0.6039216 ],\n",
              "         [0.5176471 , 0.5254902 , 0.5568628 ],\n",
              "         [0.38431373, 0.3529412 , 0.3882353 ]],\n",
              "\n",
              "        [[0.4117647 , 0.31764707, 0.2627451 ],\n",
              "         [0.40784314, 0.32156864, 0.2509804 ],\n",
              "         [0.40784314, 0.28235295, 0.16078432],\n",
              "         ...,\n",
              "         [0.36862746, 0.3529412 , 0.38039216],\n",
              "         [0.28235295, 0.27058825, 0.3529412 ],\n",
              "         [0.3019608 , 0.23137255, 0.2901961 ]]],\n",
              "\n",
              "\n",
              "       ...,\n",
              "\n",
              "\n",
              "       [[[0.31764707, 0.1882353 , 0.20784314],\n",
              "         [0.30980393, 0.18431373, 0.20784314],\n",
              "         [0.28235295, 0.16078432, 0.19607843],\n",
              "         ...,\n",
              "         [0.16078432, 0.11764706, 0.14901961],\n",
              "         [0.15294118, 0.10588235, 0.14117648],\n",
              "         [0.16078432, 0.11372549, 0.14509805]],\n",
              "\n",
              "        [[0.30980393, 0.18431373, 0.20784314],\n",
              "         [0.3019608 , 0.1764706 , 0.20392157],\n",
              "         [0.28627452, 0.16862746, 0.20392157],\n",
              "         ...,\n",
              "         [0.2509804 , 0.21176471, 0.23529412],\n",
              "         [0.24705882, 0.2       , 0.22745098],\n",
              "         [0.23921569, 0.18431373, 0.21568628]],\n",
              "\n",
              "        [[0.28235295, 0.16078432, 0.18431373],\n",
              "         [0.2627451 , 0.14509805, 0.1764706 ],\n",
              "         [0.26666668, 0.15686275, 0.1882353 ],\n",
              "         ...,\n",
              "         [0.25490198, 0.21960784, 0.23921569],\n",
              "         [0.25490198, 0.21176471, 0.23137255],\n",
              "         [0.25490198, 0.20784314, 0.22745098]],\n",
              "\n",
              "        ...,\n",
              "\n",
              "        [[0.22352941, 0.18039216, 0.20392157],\n",
              "         [0.1764706 , 0.13725491, 0.15686275],\n",
              "         [0.16078432, 0.12156863, 0.14117648],\n",
              "         ...,\n",
              "         [0.24313726, 0.1764706 , 0.24313726],\n",
              "         [0.26666668, 0.2       , 0.2627451 ],\n",
              "         [0.2901961 , 0.22352941, 0.28627452]],\n",
              "\n",
              "        [[0.20392157, 0.15686275, 0.2       ],\n",
              "         [0.15294118, 0.10980392, 0.14509805],\n",
              "         [0.13725491, 0.09803922, 0.12941177],\n",
              "         ...,\n",
              "         [0.25882354, 0.19215687, 0.25490198],\n",
              "         [0.30980393, 0.24313726, 0.30588236],\n",
              "         [0.33333334, 0.26666668, 0.32941177]],\n",
              "\n",
              "        [[0.18039216, 0.13333334, 0.18039216],\n",
              "         [0.13725491, 0.09019608, 0.13333334],\n",
              "         [0.11764706, 0.07843138, 0.11372549],\n",
              "         ...,\n",
              "         [0.24313726, 0.1764706 , 0.23921569],\n",
              "         [0.30980393, 0.24313726, 0.30588236],\n",
              "         [0.3372549 , 0.27058825, 0.33333334]]],\n",
              "\n",
              "\n",
              "       [[[0.3019608 , 0.41960785, 0.1254902 ],\n",
              "         [0.29803923, 0.40784314, 0.10588235],\n",
              "         [0.29411766, 0.4       , 0.09803922],\n",
              "         ...,\n",
              "         [0.40784314, 0.41960785, 0.1764706 ],\n",
              "         [0.42352942, 0.42352942, 0.20784314],\n",
              "         [0.4392157 , 0.43137255, 0.24705882]],\n",
              "\n",
              "        [[0.29411766, 0.40392157, 0.11764706],\n",
              "         [0.2901961 , 0.4       , 0.10196079],\n",
              "         [0.2901961 , 0.4       , 0.09803922],\n",
              "         ...,\n",
              "         [0.40784314, 0.41960785, 0.18431373],\n",
              "         [0.41960785, 0.42352942, 0.20784314],\n",
              "         [0.43529412, 0.42745098, 0.24313726]],\n",
              "\n",
              "        [[0.28627452, 0.39215687, 0.11764706],\n",
              "         [0.2784314 , 0.38431373, 0.09803922],\n",
              "         [0.29411766, 0.39607844, 0.10588235],\n",
              "         ...,\n",
              "         [0.42352942, 0.4392157 , 0.21176471],\n",
              "         [0.42745098, 0.42745098, 0.22352941],\n",
              "         [0.43529412, 0.42745098, 0.24313726]],\n",
              "\n",
              "        ...,\n",
              "\n",
              "        [[0.42352942, 0.47058824, 0.23921569],\n",
              "         [0.42352942, 0.47058824, 0.2509804 ],\n",
              "         [0.44313726, 0.49019608, 0.2901961 ],\n",
              "         ...,\n",
              "         [0.43529412, 0.5372549 , 0.22745098],\n",
              "         [0.4509804 , 0.5568628 , 0.24313726],\n",
              "         [0.47058824, 0.5686275 , 0.2784314 ]],\n",
              "\n",
              "        [[0.42352942, 0.44705883, 0.23921569],\n",
              "         [0.44313726, 0.47058824, 0.2627451 ],\n",
              "         [0.45882353, 0.49019608, 0.28627452],\n",
              "         ...,\n",
              "         [0.39607844, 0.5176471 , 0.19215687],\n",
              "         [0.41960785, 0.53333336, 0.21960784],\n",
              "         [0.43137255, 0.54901963, 0.23529412]],\n",
              "\n",
              "        [[0.4117647 , 0.42352942, 0.22745098],\n",
              "         [0.44313726, 0.4627451 , 0.2627451 ],\n",
              "         [0.4627451 , 0.49411765, 0.29411766],\n",
              "         ...,\n",
              "         [0.3882353 , 0.5137255 , 0.1882353 ],\n",
              "         [0.4117647 , 0.5254902 , 0.21176471],\n",
              "         [0.40784314, 0.53333336, 0.21568628]]],\n",
              "\n",
              "\n",
              "       [[[0.16862746, 0.30980393, 0.627451  ],\n",
              "         [0.15294118, 0.29803923, 0.60784316],\n",
              "         [0.15686275, 0.30980393, 0.60784316],\n",
              "         ...,\n",
              "         [0.13725491, 0.30980393, 0.57254905],\n",
              "         [0.14117648, 0.3137255 , 0.56078434],\n",
              "         [0.14117648, 0.3137255 , 0.5647059 ]],\n",
              "\n",
              "        [[0.1764706 , 0.32156864, 0.63529414],\n",
              "         [0.16078432, 0.30980393, 0.6156863 ],\n",
              "         [0.15294118, 0.30980393, 0.6039216 ],\n",
              "         ...,\n",
              "         [0.14509805, 0.3137255 , 0.5764706 ],\n",
              "         [0.14117648, 0.3137255 , 0.5647059 ],\n",
              "         [0.14117648, 0.3137255 , 0.5647059 ]],\n",
              "\n",
              "        [[0.1764706 , 0.3254902 , 0.63529414],\n",
              "         [0.17254902, 0.3254902 , 0.62352943],\n",
              "         [0.16078432, 0.31764707, 0.60784316],\n",
              "         ...,\n",
              "         [0.15294118, 0.31764707, 0.5882353 ],\n",
              "         [0.14117648, 0.3137255 , 0.57254905],\n",
              "         [0.14117648, 0.3137255 , 0.57254905]],\n",
              "\n",
              "        ...,\n",
              "\n",
              "        [[0.40784314, 0.58431375, 0.7411765 ],\n",
              "         [0.38431373, 0.5686275 , 0.73333335],\n",
              "         [0.3647059 , 0.5529412 , 0.7411765 ],\n",
              "         ...,\n",
              "         [0.38039216, 0.30588236, 0.00392157],\n",
              "         [0.34509805, 0.2901961 , 0.02745098],\n",
              "         [0.34901962, 0.29803923, 0.04705882]],\n",
              "\n",
              "        [[0.43529412, 0.59607846, 0.75686276],\n",
              "         [0.39607844, 0.56078434, 0.7372549 ],\n",
              "         [0.3529412 , 0.53333336, 0.73333335],\n",
              "         ...,\n",
              "         [0.36078432, 0.29411766, 0.01960784],\n",
              "         [0.36078432, 0.30588236, 0.02352941],\n",
              "         [0.3764706 , 0.3254902 , 0.03529412]],\n",
              "\n",
              "        [[0.46666667, 0.627451  , 0.7882353 ],\n",
              "         [0.42352942, 0.58431375, 0.7647059 ],\n",
              "         [0.38039216, 0.5529412 , 0.7607843 ],\n",
              "         ...,\n",
              "         [0.34901962, 0.2784314 , 0.01176471],\n",
              "         [0.3529412 , 0.29803923, 0.00784314],\n",
              "         [0.36862746, 0.31764707, 0.01568628]]]], dtype=float32)"
            ]
          },
          "metadata": {},
          "execution_count": 4
        }
      ]
    },
    {
      "cell_type": "code",
      "source": [
        "y"
      ],
      "metadata": {
        "colab": {
          "base_uri": "https://localhost:8080/"
        },
        "id": "LsYceBRtXhvz",
        "outputId": "01f32b94-3a9a-4f0d-b05d-2ad7dda17258"
      },
      "execution_count": null,
      "outputs": [
        {
          "output_type": "execute_result",
          "data": {
            "text/plain": [
              "array([[0., 1., 0., ..., 0., 0., 0.],\n",
              "       [0., 0., 0., ..., 1., 0., 0.],\n",
              "       [0., 0., 0., ..., 0., 0., 0.],\n",
              "       ...,\n",
              "       [0., 0., 0., ..., 0., 0., 0.],\n",
              "       [0., 0., 0., ..., 0., 0., 0.],\n",
              "       [0., 0., 0., ..., 0., 0., 1.]])"
            ]
          },
          "metadata": {},
          "execution_count": 5
        }
      ]
    },
    {
      "cell_type": "code",
      "source": [
        "x.shape"
      ],
      "metadata": {
        "colab": {
          "base_uri": "https://localhost:8080/"
        },
        "id": "0DDm8dyTXkRy",
        "outputId": "a7d27297-e3a2-4035-d414-45713f871f70"
      },
      "execution_count": null,
      "outputs": [
        {
          "output_type": "execute_result",
          "data": {
            "text/plain": [
              "(1360, 224, 224, 3)"
            ]
          },
          "metadata": {},
          "execution_count": 6
        }
      ]
    },
    {
      "cell_type": "code",
      "source": [
        "y.shape"
      ],
      "metadata": {
        "colab": {
          "base_uri": "https://localhost:8080/"
        },
        "id": "IQbwOCsqXsw8",
        "outputId": "7601e40f-694d-4fbb-83dc-784fc7ea59d1"
      },
      "execution_count": null,
      "outputs": [
        {
          "output_type": "execute_result",
          "data": {
            "text/plain": [
              "(1360, 17)"
            ]
          },
          "metadata": {},
          "execution_count": 7
        }
      ]
    },
    {
      "cell_type": "code",
      "source": [
        "# Create a sequential model\n",
        "model = Sequential()\n",
        "\n",
        "# 1st Convolutional Layer\n",
        "model.add(Conv2D(filters=96, input_shape=(224,224,3), kernel_size=(11,11), strides=(4,4), padding='valid'))\n",
        "model.add(Activation('relu'))\n",
        "\n",
        "# Pooling \n",
        "model.add(MaxPooling2D(pool_size=(3,3), strides=(2,2), padding='valid'))\n",
        "# Batch Normalisation before passing it to the next layer\n",
        "model.add(BatchNormalization())\n",
        "\n",
        "# 2nd Convolutional Layer\n",
        "model.add(Conv2D(filters=256, kernel_size=(5,5), strides=(1,1), padding='same'))\n",
        "model.add(Activation('relu'))\n",
        "\n",
        "# Pooling\n",
        "model.add(MaxPooling2D(pool_size=(3,3), strides=(2,2), padding='valid'))\n",
        "# Batch Normalisation\n",
        "model.add(BatchNormalization())\n",
        "\n",
        "\n",
        "\n",
        "# 3rd Convolutional Layer\n",
        "model.add(Conv2D(filters=384, kernel_size=(3,3), strides=(1,1), padding='valid'))\n",
        "model.add(Activation('relu'))\n",
        "# Batch Normalisation\n",
        "model.add(BatchNormalization())\n",
        "\n",
        "# 4th Convolutional Layer\n",
        "model.add(Conv2D(filters=384, kernel_size=(3,3), strides=(1,1), padding='valid'))\n",
        "model.add(Activation('relu'))\n",
        "# Batch Normalisation\n",
        "model.add(BatchNormalization())\n",
        "\n",
        "\n",
        "# 5th Convolutional Layer\n",
        "model.add(Conv2D(filters=256, kernel_size=(3,3), strides=(1,1), padding='valid'))\n",
        "model.add(Activation('relu'))\n",
        "\n",
        "\n",
        "# Pooling\n",
        "model.add(MaxPooling2D(pool_size=(3,3), strides=(2,2), padding='valid'))\n",
        "# Batch Normalisation\n",
        "model.add(BatchNormalization())\n",
        "\n",
        "\n",
        "# Passing it to a dense layer\n",
        "model.add(Flatten())\n",
        "\n",
        "# 1st Dense Layer\n",
        "model.add(Dense(4096, input_shape=(224*224*3,)))\n",
        "model.add(Activation('relu'))\n",
        "# Add Dropout to prevent overfitting\n",
        "model.add(Dropout(0.4))\n",
        "# Batch Normalisation\n",
        "model.add(BatchNormalization())\n",
        "\n",
        "# 2nd Dense Layer\n",
        "model.add(Dense(4096))\n",
        "model.add(Activation('relu'))\n",
        "# Add Dropout\n",
        "model.add(Dropout(0.4))\n",
        "# Batch Normalisation\n",
        "model.add(BatchNormalization())\n",
        "\n",
        "# Output Layer\n",
        "model.add(Dense(17))\n",
        "model.add(Activation('softmax'))\n",
        "\n",
        "model.summary()"
      ],
      "metadata": {
        "colab": {
          "base_uri": "https://localhost:8080/"
        },
        "id": "Eas7XYmzX4qB",
        "outputId": "e7bd79cd-f78f-4c33-9afa-71d4dcafccab"
      },
      "execution_count": null,
      "outputs": [
        {
          "output_type": "stream",
          "name": "stderr",
          "text": [
            "WARNING:tensorflow:From /usr/local/lib/python3.7/dist-packages/keras/layers/normalization/batch_normalization.py:532: _colocate_with (from tensorflow.python.framework.ops) is deprecated and will be removed in a future version.\n",
            "Instructions for updating:\n",
            "Colocations handled automatically by placer.\n"
          ]
        },
        {
          "output_type": "stream",
          "name": "stdout",
          "text": [
            "Model: \"sequential\"\n",
            "_________________________________________________________________\n",
            " Layer (type)                Output Shape              Param #   \n",
            "=================================================================\n",
            " conv2d (Conv2D)             (None, 54, 54, 96)        34944     \n",
            "                                                                 \n",
            " activation (Activation)     (None, 54, 54, 96)        0         \n",
            "                                                                 \n",
            " max_pooling2d (MaxPooling2D  (None, 26, 26, 96)       0         \n",
            " )                                                               \n",
            "                                                                 \n",
            " batch_normalization (BatchN  (None, 26, 26, 96)       384       \n",
            " ormalization)                                                   \n",
            "                                                                 \n",
            " conv2d_1 (Conv2D)           (None, 26, 26, 256)       614656    \n",
            "                                                                 \n",
            " activation_1 (Activation)   (None, 26, 26, 256)       0         \n",
            "                                                                 \n",
            " max_pooling2d_1 (MaxPooling  (None, 12, 12, 256)      0         \n",
            " 2D)                                                             \n",
            "                                                                 \n",
            " batch_normalization_1 (Batc  (None, 12, 12, 256)      1024      \n",
            " hNormalization)                                                 \n",
            "                                                                 \n",
            " conv2d_2 (Conv2D)           (None, 10, 10, 384)       885120    \n",
            "                                                                 \n",
            " activation_2 (Activation)   (None, 10, 10, 384)       0         \n",
            "                                                                 \n",
            " batch_normalization_2 (Batc  (None, 10, 10, 384)      1536      \n",
            " hNormalization)                                                 \n",
            "                                                                 \n",
            " conv2d_3 (Conv2D)           (None, 8, 8, 384)         1327488   \n",
            "                                                                 \n",
            " activation_3 (Activation)   (None, 8, 8, 384)         0         \n",
            "                                                                 \n",
            " batch_normalization_3 (Batc  (None, 8, 8, 384)        1536      \n",
            " hNormalization)                                                 \n",
            "                                                                 \n",
            " conv2d_4 (Conv2D)           (None, 6, 6, 256)         884992    \n",
            "                                                                 \n",
            " activation_4 (Activation)   (None, 6, 6, 256)         0         \n",
            "                                                                 \n",
            " max_pooling2d_2 (MaxPooling  (None, 2, 2, 256)        0         \n",
            " 2D)                                                             \n",
            "                                                                 \n",
            " batch_normalization_4 (Batc  (None, 2, 2, 256)        1024      \n",
            " hNormalization)                                                 \n",
            "                                                                 \n",
            " flatten (Flatten)           (None, 1024)              0         \n",
            "                                                                 \n",
            " dense (Dense)               (None, 4096)              4198400   \n",
            "                                                                 \n",
            " activation_5 (Activation)   (None, 4096)              0         \n",
            "                                                                 \n",
            " dropout (Dropout)           (None, 4096)              0         \n",
            "                                                                 \n",
            " batch_normalization_5 (Batc  (None, 4096)             16384     \n",
            " hNormalization)                                                 \n",
            "                                                                 \n",
            " dense_1 (Dense)             (None, 4096)              16781312  \n",
            "                                                                 \n",
            " activation_6 (Activation)   (None, 4096)              0         \n",
            "                                                                 \n",
            " dropout_1 (Dropout)         (None, 4096)              0         \n",
            "                                                                 \n",
            " batch_normalization_6 (Batc  (None, 4096)             16384     \n",
            " hNormalization)                                                 \n",
            "                                                                 \n",
            " dense_2 (Dense)             (None, 17)                69649     \n",
            "                                                                 \n",
            " activation_7 (Activation)   (None, 17)                0         \n",
            "                                                                 \n",
            "=================================================================\n",
            "Total params: 24,834,833\n",
            "Trainable params: 24,815,697\n",
            "Non-trainable params: 19,136\n",
            "_________________________________________________________________\n"
          ]
        }
      ]
    },
    {
      "cell_type": "code",
      "source": [
        "# Compile \n",
        "opt = tf.optimizers.Adam(learning_rate = 0.01)\n",
        "model.compile(loss='categorical_crossentropy', optimizer=opt, metrics=['accuracy'])"
      ],
      "metadata": {
        "id": "A9sMbiPZaOFU"
      },
      "execution_count": null,
      "outputs": []
    },
    {
      "cell_type": "code",
      "source": [
        "# Train\n",
        "model.fit(x, y, batch_size=64, epochs=20, verbose=1,validation_split=0.2, shuffle=True)"
      ],
      "metadata": {
        "colab": {
          "base_uri": "https://localhost:8080/"
        },
        "id": "2rgod3O1ap1C",
        "outputId": "8180a610-12a3-470c-c21e-639abe51c107"
      },
      "execution_count": null,
      "outputs": [
        {
          "output_type": "stream",
          "name": "stdout",
          "text": [
            "Train on 1088 samples, validate on 272 samples\n",
            "Epoch 1/20\n",
            "1088/1088 [==============================] - 1s 1ms/sample - loss: 3.3495 - acc: 0.3759 - val_loss: 76.1815 - val_acc: 0.1801\n",
            "Epoch 2/20\n",
            "1088/1088 [==============================] - 1s 1ms/sample - loss: 3.8050 - acc: 0.3621 - val_loss: 59.3024 - val_acc: 0.1875\n",
            "Epoch 3/20\n",
            "1088/1088 [==============================] - 1s 1ms/sample - loss: 2.9025 - acc: 0.4072 - val_loss: 14.2679 - val_acc: 0.2684\n",
            "Epoch 4/20\n",
            "1088/1088 [==============================] - 1s 1ms/sample - loss: 2.7048 - acc: 0.4090 - val_loss: 9.7586 - val_acc: 0.3897\n",
            "Epoch 5/20\n",
            "1088/1088 [==============================] - 1s 1ms/sample - loss: 2.2279 - acc: 0.4559 - val_loss: 9.7781 - val_acc: 0.3640\n",
            "Epoch 6/20\n",
            "1088/1088 [==============================] - 1s 1ms/sample - loss: 2.0695 - acc: 0.4844 - val_loss: 13.4771 - val_acc: 0.1801\n",
            "Epoch 7/20\n",
            "1088/1088 [==============================] - 1s 1ms/sample - loss: 2.2317 - acc: 0.4761 - val_loss: 7.8196 - val_acc: 0.3015\n",
            "Epoch 8/20\n",
            "1088/1088 [==============================] - 1s 1ms/sample - loss: 2.3152 - acc: 0.4660 - val_loss: 21.6271 - val_acc: 0.2059\n",
            "Epoch 9/20\n",
            "1088/1088 [==============================] - 1s 1ms/sample - loss: 1.8921 - acc: 0.4862 - val_loss: 14.9877 - val_acc: 0.2978\n",
            "Epoch 10/20\n",
            "1088/1088 [==============================] - 1s 1ms/sample - loss: 2.0036 - acc: 0.4982 - val_loss: 11.2760 - val_acc: 0.3419\n",
            "Epoch 11/20\n",
            "1088/1088 [==============================] - 1s 1ms/sample - loss: 1.9159 - acc: 0.5083 - val_loss: 11.9940 - val_acc: 0.3897\n",
            "Epoch 12/20\n",
            "1088/1088 [==============================] - 1s 1ms/sample - loss: 1.7787 - acc: 0.5460 - val_loss: 7.8888 - val_acc: 0.2537\n",
            "Epoch 13/20\n",
            "1088/1088 [==============================] - 1s 1ms/sample - loss: 1.8340 - acc: 0.5276 - val_loss: 17.6147 - val_acc: 0.1250\n",
            "Epoch 14/20\n",
            "1088/1088 [==============================] - 1s 1ms/sample - loss: 2.4482 - acc: 0.4228 - val_loss: 35.0317 - val_acc: 0.1728\n",
            "Epoch 15/20\n",
            "1088/1088 [==============================] - 1s 1ms/sample - loss: 2.3043 - acc: 0.4265 - val_loss: 9.8384 - val_acc: 0.2684\n",
            "Epoch 16/20\n",
            "1088/1088 [==============================] - 1s 1ms/sample - loss: 2.3661 - acc: 0.4237 - val_loss: 42.6085 - val_acc: 0.2757\n",
            "Epoch 17/20\n",
            "1088/1088 [==============================] - 1s 1ms/sample - loss: 2.2268 - acc: 0.4688 - val_loss: 11.8659 - val_acc: 0.2721\n",
            "Epoch 18/20\n",
            "1088/1088 [==============================] - 1s 1ms/sample - loss: 2.1195 - acc: 0.4559 - val_loss: 6.1093 - val_acc: 0.2500\n",
            "Epoch 19/20\n",
            "1088/1088 [==============================] - 1s 1ms/sample - loss: 3.8300 - acc: 0.3915 - val_loss: 36.9628 - val_acc: 0.0882\n",
            "Epoch 20/20\n",
            "1088/1088 [==============================] - 1s 1ms/sample - loss: 4.0060 - acc: 0.2518 - val_loss: 47.5599 - val_acc: 0.0699\n"
          ]
        },
        {
          "output_type": "execute_result",
          "data": {
            "text/plain": [
              "<keras.callbacks.History at 0x7f59b4ea4ed0>"
            ]
          },
          "metadata": {},
          "execution_count": 11
        }
      ]
    },
    {
      "cell_type": "code",
      "source": [],
      "metadata": {
        "id": "sK7qEdLia0-M"
      },
      "execution_count": null,
      "outputs": []
    }
  ]
}