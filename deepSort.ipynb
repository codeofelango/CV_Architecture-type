{
  "cells": [
    {
      "cell_type": "markdown",
      "metadata": {
        "id": "view-in-github",
        "colab_type": "text"
      },
      "source": [
        "<a href=\"https://colab.research.google.com/github/codeofelango/CV_Architecture-type/blob/main/deepSort.ipynb\" target=\"_parent\"><img src=\"https://colab.research.google.com/assets/colab-badge.svg\" alt=\"Open In Colab\"/></a>"
      ]
    },
    {
      "cell_type": "code",
      "execution_count": 2,
      "metadata": {
        "colab": {
          "base_uri": "https://localhost:8080/"
        },
        "id": "HF7pGtlx7YtE",
        "outputId": "30385e31-2466-400a-d886-fb10844d517c"
      },
      "outputs": [
        {
          "output_type": "stream",
          "name": "stdout",
          "text": [
            "/content/drive/MyDrive/Neuron project/Obj_trac_deepSort/DeepSort\n"
          ]
        }
      ],
      "source": [
        "%cd /content/drive/MyDrive/Neuron project/Obj_trac_deepSort/DeepSort"
      ]
    },
    {
      "cell_type": "code",
      "execution_count": 1,
      "metadata": {
        "colab": {
          "base_uri": "https://localhost:8080/"
        },
        "id": "ako_Opau_GCx",
        "outputId": "753e6414-a176-4088-abff-f36a43c7fa88"
      },
      "outputs": [
        {
          "output_type": "stream",
          "name": "stdout",
          "text": [
            "Mounted at /content/drive\n"
          ]
        }
      ],
      "source": [
        "from google.colab import drive\n",
        "drive.mount('/content/drive')"
      ]
    },
    {
      "cell_type": "code",
      "execution_count": 3,
      "metadata": {
        "colab": {
          "base_uri": "https://localhost:8080/"
        },
        "id": "3UJhVsZf5cod",
        "outputId": "80b0280f-0df1-4ec0-ca68-c8da19e478bb"
      },
      "outputs": [
        {
          "output_type": "stream",
          "name": "stdout",
          "text": [
            "fatal: destination path 'deep_sort_pytorch' already exists and is not an empty directory.\n"
          ]
        }
      ],
      "source": [
        "!git clone https://github.com/ZQPei/deep_sort_pytorch.git"
      ]
    },
    {
      "cell_type": "code",
      "execution_count": 4,
      "metadata": {
        "colab": {
          "base_uri": "https://localhost:8080/"
        },
        "id": "UVqVjIDP5ur8",
        "outputId": "eb25dc91-b092-42ea-984e-5ea436c79549"
      },
      "outputs": [
        {
          "output_type": "stream",
          "name": "stdout",
          "text": [
            "/content/drive/MyDrive/Neuron project/Obj_trac_deepSort/DeepSort/deep_sort_pytorch\n"
          ]
        }
      ],
      "source": [
        "%cd deep_sort_pytorch/"
      ]
    },
    {
      "cell_type": "code",
      "execution_count": 5,
      "metadata": {
        "colab": {
          "base_uri": "https://localhost:8080/",
          "height": 1000
        },
        "id": "eLLcjGyw59Oa",
        "outputId": "6d49805e-e291-495e-e33b-eafa4ab87210"
      },
      "outputs": [
        {
          "output_type": "stream",
          "name": "stdout",
          "text": [
            "Looking in indexes: https://pypi.org/simple, https://us-python.pkg.dev/colab-wheels/public/simple/\n",
            "Collecting atomicwrites==1.3.0\n",
            "  Downloading atomicwrites-1.3.0-py2.py3-none-any.whl (5.9 kB)\n",
            "Collecting attrs==19.3.0\n",
            "  Downloading attrs-19.3.0-py2.py3-none-any.whl (39 kB)\n",
            "Collecting colorama==0.4.3\n",
            "  Downloading colorama-0.4.3-py2.py3-none-any.whl (15 kB)\n",
            "Collecting easydict==1.9\n",
            "  Downloading easydict-1.9.tar.gz (6.4 kB)\n",
            "Collecting entrypoints==0.3\n",
            "  Downloading entrypoints-0.3-py2.py3-none-any.whl (11 kB)\n",
            "Collecting et-xmlfile==1.0.1\n",
            "  Downloading et_xmlfile-1.0.1.tar.gz (8.4 kB)\n",
            "Collecting flake8==3.7.9\n",
            "  Downloading flake8-3.7.9-py2.py3-none-any.whl (69 kB)\n",
            "\u001b[K     |████████████████████████████████| 69 kB 8.8 MB/s \n",
            "\u001b[?25hCollecting flake8-import-order==0.18.1\n",
            "  Downloading flake8_import_order-0.18.1-py2.py3-none-any.whl (15 kB)\n",
            "Collecting importlib-metadata==1.6.0\n",
            "  Downloading importlib_metadata-1.6.0-py2.py3-none-any.whl (30 kB)\n",
            "Collecting jdcal==1.4.1\n",
            "  Downloading jdcal-1.4.1-py2.py3-none-any.whl (9.5 kB)\n",
            "Collecting joblib==0.14.1\n",
            "  Downloading joblib-0.14.1-py2.py3-none-any.whl (294 kB)\n",
            "\u001b[K     |████████████████████████████████| 294 kB 63.9 MB/s \n",
            "\u001b[?25hCollecting numpy==1.18.2\n",
            "  Downloading numpy-1.18.2-cp37-cp37m-manylinux1_x86_64.whl (20.2 MB)\n",
            "\u001b[K     |████████████████████████████████| 20.2 MB 1.2 MB/s \n",
            "\u001b[?25hCollecting lap==0.4.0\n",
            "  Downloading lap-0.4.0.tar.gz (1.5 MB)\n",
            "\u001b[K     |████████████████████████████████| 1.5 MB 50.4 MB/s \n",
            "\u001b[?25hCollecting mccabe==0.6.1\n",
            "  Downloading mccabe-0.6.1-py2.py3-none-any.whl (8.6 kB)\n",
            "Collecting more-itertools==8.2.0\n",
            "  Downloading more_itertools-8.2.0-py3-none-any.whl (43 kB)\n",
            "\u001b[K     |████████████████████████████████| 43 kB 2.0 MB/s \n",
            "\u001b[?25hCollecting motmetrics==1.2.0\n",
            "  Downloading motmetrics-1.2.0-py3-none-any.whl (151 kB)\n",
            "\u001b[K     |████████████████████████████████| 151 kB 65.3 MB/s \n",
            "\u001b[?25hCollecting opencv-python==4.2.0.34\n",
            "  Downloading opencv_python-4.2.0.34-cp37-cp37m-manylinux1_x86_64.whl (28.2 MB)\n",
            "\u001b[K     |████████████████████████████████| 28.2 MB 1.4 MB/s \n",
            "\u001b[?25hCollecting openpyxl==3.0.3\n",
            "  Downloading openpyxl-3.0.3.tar.gz (172 kB)\n",
            "\u001b[K     |████████████████████████████████| 172 kB 52.7 MB/s \n",
            "\u001b[?25hCollecting packaging==20.3\n",
            "  Downloading packaging-20.3-py2.py3-none-any.whl (37 kB)\n",
            "Collecting pandas==1.0.3\n",
            "  Downloading pandas-1.0.3-cp37-cp37m-manylinux1_x86_64.whl (10.0 MB)\n",
            "\u001b[K     |████████████████████████████████| 10.0 MB 50.3 MB/s \n",
            "\u001b[?25hCollecting Pillow==8.3.2\n",
            "  Downloading Pillow-8.3.2-cp37-cp37m-manylinux_2_17_x86_64.manylinux2014_x86_64.whl (3.0 MB)\n",
            "\u001b[K     |████████████████████████████████| 3.0 MB 51.5 MB/s \n",
            "\u001b[?25hCollecting pluggy==0.13.1\n",
            "  Downloading pluggy-0.13.1-py2.py3-none-any.whl (18 kB)\n",
            "Collecting py==1.10.0\n",
            "  Downloading py-1.10.0-py2.py3-none-any.whl (97 kB)\n",
            "\u001b[K     |████████████████████████████████| 97 kB 7.3 MB/s \n",
            "\u001b[?25hCollecting py-cpuinfo==5.0.0\n",
            "  Downloading py-cpuinfo-5.0.0.tar.gz (82 kB)\n",
            "\u001b[K     |████████████████████████████████| 82 kB 257 kB/s \n",
            "\u001b[?25hCollecting pycodestyle==2.5.0\n",
            "  Downloading pycodestyle-2.5.0-py2.py3-none-any.whl (51 kB)\n",
            "\u001b[K     |████████████████████████████████| 51 kB 7.0 MB/s \n",
            "\u001b[?25hCollecting pyflakes==2.1.1\n",
            "  Downloading pyflakes-2.1.1-py2.py3-none-any.whl (59 kB)\n",
            "\u001b[K     |████████████████████████████████| 59 kB 5.3 MB/s \n",
            "\u001b[?25hCollecting pyparsing==2.4.7\n",
            "  Downloading pyparsing-2.4.7-py2.py3-none-any.whl (67 kB)\n",
            "\u001b[K     |████████████████████████████████| 67 kB 6.8 MB/s \n",
            "\u001b[?25hCollecting pytest==5.4.1\n",
            "  Downloading pytest-5.4.1-py3-none-any.whl (246 kB)\n",
            "\u001b[K     |████████████████████████████████| 246 kB 67.3 MB/s \n",
            "\u001b[?25hCollecting pytest-benchmark==3.2.3\n",
            "  Downloading pytest_benchmark-3.2.3-py2.py3-none-any.whl (49 kB)\n",
            "\u001b[K     |████████████████████████████████| 49 kB 6.4 MB/s \n",
            "\u001b[?25hCollecting python-dateutil==2.8.1\n",
            "  Downloading python_dateutil-2.8.1-py2.py3-none-any.whl (227 kB)\n",
            "\u001b[K     |████████████████████████████████| 227 kB 68.2 MB/s \n",
            "\u001b[?25hCollecting pytz==2019.3\n",
            "  Downloading pytz-2019.3-py2.py3-none-any.whl (509 kB)\n",
            "\u001b[K     |████████████████████████████████| 509 kB 67.9 MB/s \n",
            "\u001b[?25hCollecting PyYAML==5.4\n",
            "  Downloading PyYAML-5.4-cp37-cp37m-manylinux1_x86_64.whl (636 kB)\n",
            "\u001b[K     |████████████████████████████████| 636 kB 69.3 MB/s \n",
            "\u001b[?25hCollecting scikit-learn==0.22.2.post1\n",
            "  Downloading scikit_learn-0.22.2.post1-cp37-cp37m-manylinux1_x86_64.whl (7.1 MB)\n",
            "\u001b[K     |████████████████████████████████| 7.1 MB 45.4 MB/s \n",
            "\u001b[?25hCollecting scipy==1.4.1\n",
            "  Downloading scipy-1.4.1-cp37-cp37m-manylinux1_x86_64.whl (26.1 MB)\n",
            "\u001b[K     |████████████████████████████████| 26.1 MB 1.4 MB/s \n",
            "\u001b[?25hCollecting six==1.14.0\n",
            "  Downloading six-1.14.0-py2.py3-none-any.whl (10 kB)\n",
            "Collecting sklearn==0.0\n",
            "  Downloading sklearn-0.0.tar.gz (1.1 kB)\n",
            "Collecting torch==1.4.0\n",
            "  Downloading torch-1.4.0-cp37-cp37m-manylinux1_x86_64.whl (753.4 MB)\n",
            "\u001b[K     |████████████████████████████████| 753.4 MB 7.5 kB/s \n",
            "\u001b[?25hCollecting torchvision==0.5.0\n",
            "  Downloading torchvision-0.5.0-cp37-cp37m-manylinux1_x86_64.whl (4.0 MB)\n",
            "\u001b[K     |████████████████████████████████| 4.0 MB 52.5 MB/s \n",
            "\u001b[?25hCollecting Vizer==0.1.5\n",
            "  Downloading Vizer-0.1.5.tar.gz (2.5 kB)\n",
            "Collecting wcwidth==0.1.9\n",
            "  Downloading wcwidth-0.1.9-py2.py3-none-any.whl (19 kB)\n",
            "Collecting xmltodict==0.12.0\n",
            "  Downloading xmltodict-0.12.0-py2.py3-none-any.whl (9.2 kB)\n",
            "Collecting zipp==3.1.0\n",
            "  Downloading zipp-3.1.0-py3-none-any.whl (4.9 kB)\n",
            "Requirement already satisfied: setuptools in /usr/local/lib/python3.7/dist-packages (from flake8-import-order==0.18.1->-r requirements.txt (line 8)) (57.4.0)\n",
            "Building wheels for collected packages: easydict, et-xmlfile, lap, openpyxl, py-cpuinfo, sklearn, Vizer\n",
            "  Building wheel for easydict (setup.py) ... \u001b[?25l\u001b[?25hdone\n",
            "  Created wheel for easydict: filename=easydict-1.9-py3-none-any.whl size=6360 sha256=e8c057720e3cb864120ee6731a3d67bf17ae021434b8592808c5c9312b24e3ff\n",
            "  Stored in directory: /root/.cache/pip/wheels/88/96/68/c2be18e7406804be2e593e1c37845f2dd20ac2ce1381ce40b0\n",
            "  Building wheel for et-xmlfile (setup.py) ... \u001b[?25l\u001b[?25hdone\n",
            "  Created wheel for et-xmlfile: filename=et_xmlfile-1.0.1-py3-none-any.whl size=8914 sha256=eb5331ecefdd52e020d68af2611d5ca6d096ac3c605ad181e65a1027eace0fe3\n",
            "  Stored in directory: /root/.cache/pip/wheels/e2/bd/55/048b4fd505716c4c298f42ee02dffd9496bb6d212b266c7f31\n",
            "  Building wheel for lap (setup.py) ... \u001b[?25l\u001b[?25hdone\n",
            "  Created wheel for lap: filename=lap-0.4.0-cp37-cp37m-linux_x86_64.whl size=1590228 sha256=96197f047686ba62bfae1eac427731bc81f65dd115e6ea5f53595ce7eb8df1aa\n",
            "  Stored in directory: /root/.cache/pip/wheels/b1/0b/e3/ef9daf1b5547b56389e42c80c3100f1e6479bf5fd00fd9d6ba\n",
            "  Building wheel for openpyxl (setup.py) ... \u001b[?25l\u001b[?25hdone\n",
            "  Created wheel for openpyxl: filename=openpyxl-3.0.3-py2.py3-none-any.whl size=241276 sha256=c786c1bf261fe54325da97f8e2ae85c71fd2db17082ce0718411cfebd3e15ce3\n",
            "  Stored in directory: /root/.cache/pip/wheels/5b/c0/e7/e16d3916984addf40bd021fa98d1624cb24a9adc48da4e62b5\n",
            "  Building wheel for py-cpuinfo (setup.py) ... \u001b[?25l\u001b[?25hdone\n",
            "  Created wheel for py-cpuinfo: filename=py_cpuinfo-5.0.0-py3-none-any.whl size=18697 sha256=a4e07d64edd985bcf4d7dca5f46f539517675f63e07b989d912c373caad65a57\n",
            "  Stored in directory: /root/.cache/pip/wheels/e7/3b/8e/2b1f0f6cc651cd381bb5806e5005820c6986867c46f3536101\n",
            "  Building wheel for sklearn (setup.py) ... \u001b[?25l\u001b[?25hdone\n",
            "  Created wheel for sklearn: filename=sklearn-0.0-py2.py3-none-any.whl size=1308 sha256=72c3d3026fad982edfb5f7295b2e5e97cb6ce83cbdfb16d3b3d9c62abfdcce46\n",
            "  Stored in directory: /root/.cache/pip/wheels/46/ef/c3/157e41f5ee1372d1be90b09f74f82b10e391eaacca8f22d33e\n",
            "  Building wheel for Vizer (setup.py) ... \u001b[?25l\u001b[?25hdone\n",
            "  Created wheel for Vizer: filename=Vizer-0.1.5-py3-none-any.whl size=3505 sha256=ff8811dc78020706b40b9525882ff113f59f60fbfb68c0694490b2ac246e30da\n",
            "  Stored in directory: /root/.cache/pip/wheels/67/a2/c6/7aaa279c50f12c49cc49233acbfd38e23ae3908c373ea4ec85\n",
            "Successfully built easydict et-xmlfile lap openpyxl py-cpuinfo sklearn Vizer\n",
            "Installing collected packages: zipp, six, pyparsing, importlib-metadata, wcwidth, py, pluggy, packaging, numpy, more-itertools, attrs, scipy, pytz, python-dateutil, pytest, pyflakes, pycodestyle, py-cpuinfo, mccabe, joblib, entrypoints, xmltodict, torch, scikit-learn, pytest-benchmark, Pillow, pandas, opencv-python, jdcal, flake8-import-order, flake8, et-xmlfile, Vizer, torchvision, sklearn, PyYAML, openpyxl, motmetrics, lap, easydict, colorama, atomicwrites\n",
            "  Attempting uninstall: zipp\n",
            "    Found existing installation: zipp 3.10.0\n",
            "    Uninstalling zipp-3.10.0:\n",
            "      Successfully uninstalled zipp-3.10.0\n",
            "  Attempting uninstall: six\n",
            "    Found existing installation: six 1.15.0\n",
            "    Uninstalling six-1.15.0:\n",
            "      Successfully uninstalled six-1.15.0\n",
            "  Attempting uninstall: pyparsing\n",
            "    Found existing installation: pyparsing 3.0.9\n",
            "    Uninstalling pyparsing-3.0.9:\n",
            "      Successfully uninstalled pyparsing-3.0.9\n",
            "  Attempting uninstall: importlib-metadata\n",
            "    Found existing installation: importlib-metadata 4.13.0\n",
            "    Uninstalling importlib-metadata-4.13.0:\n",
            "      Successfully uninstalled importlib-metadata-4.13.0\n",
            "  Attempting uninstall: wcwidth\n",
            "    Found existing installation: wcwidth 0.2.5\n",
            "    Uninstalling wcwidth-0.2.5:\n",
            "      Successfully uninstalled wcwidth-0.2.5\n",
            "  Attempting uninstall: py\n",
            "    Found existing installation: py 1.11.0\n",
            "    Uninstalling py-1.11.0:\n",
            "      Successfully uninstalled py-1.11.0\n",
            "  Attempting uninstall: pluggy\n",
            "    Found existing installation: pluggy 0.7.1\n",
            "    Uninstalling pluggy-0.7.1:\n",
            "      Successfully uninstalled pluggy-0.7.1\n",
            "  Attempting uninstall: packaging\n",
            "    Found existing installation: packaging 21.3\n",
            "    Uninstalling packaging-21.3:\n",
            "      Successfully uninstalled packaging-21.3\n",
            "  Attempting uninstall: numpy\n",
            "    Found existing installation: numpy 1.21.6\n",
            "    Uninstalling numpy-1.21.6:\n",
            "      Successfully uninstalled numpy-1.21.6\n",
            "  Attempting uninstall: more-itertools\n",
            "    Found existing installation: more-itertools 9.0.0\n",
            "    Uninstalling more-itertools-9.0.0:\n",
            "      Successfully uninstalled more-itertools-9.0.0\n",
            "  Attempting uninstall: attrs\n",
            "    Found existing installation: attrs 22.1.0\n",
            "    Uninstalling attrs-22.1.0:\n",
            "      Successfully uninstalled attrs-22.1.0\n",
            "  Attempting uninstall: scipy\n",
            "    Found existing installation: scipy 1.7.3\n",
            "    Uninstalling scipy-1.7.3:\n",
            "      Successfully uninstalled scipy-1.7.3\n",
            "  Attempting uninstall: pytz\n",
            "    Found existing installation: pytz 2022.6\n",
            "    Uninstalling pytz-2022.6:\n",
            "      Successfully uninstalled pytz-2022.6\n",
            "  Attempting uninstall: python-dateutil\n",
            "    Found existing installation: python-dateutil 2.8.2\n",
            "    Uninstalling python-dateutil-2.8.2:\n",
            "      Successfully uninstalled python-dateutil-2.8.2\n",
            "  Attempting uninstall: pytest\n",
            "    Found existing installation: pytest 3.6.4\n",
            "    Uninstalling pytest-3.6.4:\n",
            "      Successfully uninstalled pytest-3.6.4\n",
            "  Attempting uninstall: joblib\n",
            "    Found existing installation: joblib 1.2.0\n",
            "    Uninstalling joblib-1.2.0:\n",
            "      Successfully uninstalled joblib-1.2.0\n",
            "  Attempting uninstall: entrypoints\n",
            "    Found existing installation: entrypoints 0.4\n",
            "    Uninstalling entrypoints-0.4:\n",
            "      Successfully uninstalled entrypoints-0.4\n",
            "  Attempting uninstall: torch\n",
            "    Found existing installation: torch 1.12.1+cu113\n",
            "    Uninstalling torch-1.12.1+cu113:\n",
            "      Successfully uninstalled torch-1.12.1+cu113\n",
            "  Attempting uninstall: scikit-learn\n",
            "    Found existing installation: scikit-learn 1.0.2\n",
            "    Uninstalling scikit-learn-1.0.2:\n",
            "      Successfully uninstalled scikit-learn-1.0.2\n",
            "  Attempting uninstall: Pillow\n",
            "    Found existing installation: Pillow 7.1.2\n",
            "    Uninstalling Pillow-7.1.2:\n",
            "      Successfully uninstalled Pillow-7.1.2\n",
            "  Attempting uninstall: pandas\n",
            "    Found existing installation: pandas 1.3.5\n",
            "    Uninstalling pandas-1.3.5:\n",
            "      Successfully uninstalled pandas-1.3.5\n",
            "  Attempting uninstall: opencv-python\n",
            "    Found existing installation: opencv-python 4.6.0.66\n",
            "    Uninstalling opencv-python-4.6.0.66:\n",
            "      Successfully uninstalled opencv-python-4.6.0.66\n",
            "  Attempting uninstall: et-xmlfile\n",
            "    Found existing installation: et-xmlfile 1.1.0\n",
            "    Uninstalling et-xmlfile-1.1.0:\n",
            "      Successfully uninstalled et-xmlfile-1.1.0\n",
            "  Attempting uninstall: torchvision\n",
            "    Found existing installation: torchvision 0.13.1+cu113\n",
            "    Uninstalling torchvision-0.13.1+cu113:\n",
            "      Successfully uninstalled torchvision-0.13.1+cu113\n",
            "  Attempting uninstall: PyYAML\n",
            "    Found existing installation: PyYAML 6.0\n",
            "    Uninstalling PyYAML-6.0:\n",
            "      Successfully uninstalled PyYAML-6.0\n",
            "  Attempting uninstall: openpyxl\n",
            "    Found existing installation: openpyxl 3.0.10\n",
            "    Uninstalling openpyxl-3.0.10:\n",
            "      Successfully uninstalled openpyxl-3.0.10\n",
            "  Attempting uninstall: easydict\n",
            "    Found existing installation: easydict 1.10\n",
            "    Uninstalling easydict-1.10:\n",
            "      Successfully uninstalled easydict-1.10\n",
            "  Attempting uninstall: atomicwrites\n",
            "    Found existing installation: atomicwrites 1.4.1\n",
            "    Uninstalling atomicwrites-1.4.1:\n",
            "      Successfully uninstalled atomicwrites-1.4.1\n",
            "\u001b[31mERROR: pip's dependency resolver does not currently take into account all the packages that are installed. This behaviour is the source of the following dependency conflicts.\n",
            "ipython 7.9.0 requires jedi>=0.10, which is not installed.\n",
            "yellowbrick 1.5 requires scikit-learn>=1.0.0, but you have scikit-learn 0.22.2.post1 which is incompatible.\n",
            "xarray 0.20.2 requires pandas>=1.1, but you have pandas 1.0.3 which is incompatible.\n",
            "xarray-einstats 0.2.2 requires numpy>=1.21, but you have numpy 1.18.2 which is incompatible.\n",
            "torchtext 0.13.1 requires torch==1.12.1, but you have torch 1.4.0 which is incompatible.\n",
            "torchaudio 0.12.1+cu113 requires torch==1.12.1, but you have torch 1.4.0 which is incompatible.\n",
            "tensorflow 2.9.2 requires numpy>=1.20, but you have numpy 1.18.2 which is incompatible.\n",
            "tables 3.7.0 requires numpy>=1.19.0, but you have numpy 1.18.2 which is incompatible.\n",
            "prophet 1.1.1 requires pandas>=1.0.4, but you have pandas 1.0.3 which is incompatible.\n",
            "plotnine 0.8.0 requires numpy>=1.19.0, but you have numpy 1.18.2 which is incompatible.\n",
            "plotnine 0.8.0 requires pandas>=1.1.0, but you have pandas 1.0.3 which is incompatible.\n",
            "plotnine 0.8.0 requires scipy>=1.5.0, but you have scipy 1.4.1 which is incompatible.\n",
            "nbformat 5.7.0 requires importlib-metadata>=3.6; python_version < \"3.8\", but you have importlib-metadata 1.6.0 which is incompatible.\n",
            "mizani 0.7.3 requires pandas>=1.1.0, but you have pandas 1.0.3 which is incompatible.\n",
            "markdown 3.4.1 requires importlib-metadata>=4.4; python_version < \"3.10\", but you have importlib-metadata 1.6.0 which is incompatible.\n",
            "kapre 0.3.7 requires numpy>=1.18.5, but you have numpy 1.18.2 which is incompatible.\n",
            "jaxlib 0.3.22+cuda11.cudnn805 requires numpy>=1.20, but you have numpy 1.18.2 which is incompatible.\n",
            "jaxlib 0.3.22+cuda11.cudnn805 requires scipy>=1.5, but you have scipy 1.4.1 which is incompatible.\n",
            "jax 0.3.23 requires numpy>=1.20, but you have numpy 1.18.2 which is incompatible.\n",
            "jax 0.3.23 requires scipy>=1.5, but you have scipy 1.4.1 which is incompatible.\n",
            "imbalanced-learn 0.8.1 requires scikit-learn>=0.24, but you have scikit-learn 0.22.2.post1 which is incompatible.\n",
            "gym 0.25.2 requires importlib-metadata>=4.8.0; python_version < \"3.10\", but you have importlib-metadata 1.6.0 which is incompatible.\n",
            "google-colab 1.0.0 requires pandas>=1.1.0, but you have pandas 1.0.3 which is incompatible.\n",
            "fastai 2.7.10 requires torch<1.14,>=1.7, but you have torch 1.4.0 which is incompatible.\n",
            "fastai 2.7.10 requires torchvision>=0.8.2, but you have torchvision 0.5.0 which is incompatible.\n",
            "cupy-cuda11x 11.0.0 requires numpy<1.26,>=1.20, but you have numpy 1.18.2 which is incompatible.\n",
            "cmdstanpy 1.0.8 requires numpy>=1.21, but you have numpy 1.18.2 which is incompatible.\u001b[0m\n",
            "Successfully installed Pillow-8.3.2 PyYAML-5.4 Vizer-0.1.5 atomicwrites-1.3.0 attrs-19.3.0 colorama-0.4.3 easydict-1.9 entrypoints-0.3 et-xmlfile-1.0.1 flake8-3.7.9 flake8-import-order-0.18.1 importlib-metadata-1.6.0 jdcal-1.4.1 joblib-0.14.1 lap-0.4.0 mccabe-0.6.1 more-itertools-8.2.0 motmetrics-1.2.0 numpy-1.18.2 opencv-python-4.2.0.34 openpyxl-3.0.3 packaging-20.3 pandas-1.0.3 pluggy-0.13.1 py-1.10.0 py-cpuinfo-5.0.0 pycodestyle-2.5.0 pyflakes-2.1.1 pyparsing-2.4.7 pytest-5.4.1 pytest-benchmark-3.2.3 python-dateutil-2.8.1 pytz-2019.3 scikit-learn-0.22.2.post1 scipy-1.4.1 six-1.14.0 sklearn-0.0 torch-1.4.0 torchvision-0.5.0 wcwidth-0.1.9 xmltodict-0.12.0 zipp-3.1.0\n"
          ]
        },
        {
          "output_type": "display_data",
          "data": {
            "application/vnd.colab-display-data+json": {
              "pip_warning": {
                "packages": [
                  "PIL",
                  "dateutil",
                  "numpy",
                  "pyparsing",
                  "six",
                  "wcwidth"
                ]
              }
            }
          },
          "metadata": {}
        }
      ],
      "source": [
        "!pip install -r requirements.txt"
      ]
    },
    {
      "cell_type": "code",
      "execution_count": 4,
      "metadata": {
        "colab": {
          "base_uri": "https://localhost:8080/",
          "height": 35
        },
        "id": "a_ylXzDK8IWJ",
        "outputId": "53439494-6d48-4439-d191-26084d6ea676"
      },
      "outputs": [
        {
          "output_type": "execute_result",
          "data": {
            "text/plain": [
              "'/content/drive/MyDrive/Neuron project/Obj_trac_deepSort/DeepSort/deep_sort_pytorch/deep_sort/deep'"
            ],
            "application/vnd.google.colaboratory.intrinsic+json": {
              "type": "string"
            }
          },
          "metadata": {},
          "execution_count": 4
        }
      ],
      "source": [
        "pwd"
      ]
    },
    {
      "cell_type": "code",
      "execution_count": 2,
      "metadata": {
        "colab": {
          "base_uri": "https://localhost:8080/"
        },
        "id": "B3WFOYFU97rO",
        "outputId": "2e572452-5c38-4396-d2e6-83997ffed8c5"
      },
      "outputs": [
        {
          "output_type": "stream",
          "name": "stdout",
          "text": [
            "/content/drive/MyDrive/Neuron project/Obj_trac_deepSort/DeepSort/deep_sort_pytorch/deep_sort/deep\n"
          ]
        }
      ],
      "source": [
        "%cd /content/drive/MyDrive/Neuron project/Obj_trac_deepSort/DeepSort/deep_sort_pytorch/deep_sort/deep"
      ]
    },
    {
      "cell_type": "code",
      "execution_count": 5,
      "metadata": {
        "id": "DPqiUwjI6PQN"
      },
      "outputs": [],
      "source": [
        "%cp -r /content/drive/MyDrive/Neuronproject/Obj_trac_deepSort/DeepSort/data /content/drive/MyDrive/Neuronproject/Obj_trac_deepSort/DeepSort/deep_sort_pytorch/deep_sort/deep"
      ]
    },
    {
      "cell_type": "code",
      "execution_count": 7,
      "metadata": {
        "colab": {
          "base_uri": "https://localhost:8080/"
        },
        "id": "BsRUQMOW-5II",
        "outputId": "d8429c4f-f64d-4304-9d2e-17c9bb9654cb"
      },
      "outputs": [
        {
          "output_type": "stream",
          "name": "stdout",
          "text": [
            "\n",
            "Epoch : 1\n",
            "Testing ...\n",
            "[progress:100.0%]time:0.21s Loss:0.00000 Correct:22/22 Acc:100.000%\n",
            "Saving parameters to checkpoint/ckpt.t7\n",
            "\n",
            "Epoch : 2\n",
            "Testing ...\n",
            "[progress:100.0%]time:0.05s Loss:0.00000 Correct:22/22 Acc:100.000%\n",
            "\n",
            "Epoch : 3\n",
            "Testing ...\n",
            "[progress:100.0%]time:0.05s Loss:0.00000 Correct:22/22 Acc:100.000%\n",
            "\n",
            "Epoch : 4\n",
            "Testing ...\n",
            "[progress:100.0%]time:0.05s Loss:0.00000 Correct:22/22 Acc:100.000%\n",
            "\n",
            "Epoch : 5\n",
            "Testing ...\n",
            "[progress:100.0%]time:0.05s Loss:0.00000 Correct:22/22 Acc:100.000%\n",
            "\n",
            "Epoch : 6\n",
            "Testing ...\n",
            "[progress:100.0%]time:0.05s Loss:0.00000 Correct:22/22 Acc:100.000%\n",
            "\n",
            "Epoch : 7\n",
            "Testing ...\n",
            "[progress:100.0%]time:0.05s Loss:0.00000 Correct:22/22 Acc:100.000%\n",
            "\n",
            "Epoch : 8\n",
            "Testing ...\n",
            "[progress:100.0%]time:0.05s Loss:0.00000 Correct:22/22 Acc:100.000%\n",
            "\n",
            "Epoch : 9\n",
            "Testing ...\n",
            "[progress:100.0%]time:0.05s Loss:0.00000 Correct:22/22 Acc:100.000%\n",
            "\n",
            "Epoch : 10\n",
            "Testing ...\n",
            "[progress:100.0%]time:0.05s Loss:0.00000 Correct:22/22 Acc:100.000%\n",
            "\n",
            "Epoch : 11\n",
            "Testing ...\n",
            "[progress:100.0%]time:0.05s Loss:0.00000 Correct:22/22 Acc:100.000%\n",
            "\n",
            "Epoch : 12\n",
            "Testing ...\n",
            "[progress:100.0%]time:0.05s Loss:0.00000 Correct:22/22 Acc:100.000%\n",
            "\n",
            "Epoch : 13\n",
            "Testing ...\n",
            "[progress:100.0%]time:0.05s Loss:0.00000 Correct:22/22 Acc:100.000%\n",
            "\n",
            "Epoch : 14\n",
            "Testing ...\n",
            "[progress:100.0%]time:0.05s Loss:0.00000 Correct:22/22 Acc:100.000%\n",
            "\n",
            "Epoch : 15\n",
            "Testing ...\n",
            "[progress:100.0%]time:0.05s Loss:0.00000 Correct:22/22 Acc:100.000%\n",
            "\n",
            "Epoch : 16\n",
            "Testing ...\n",
            "[progress:100.0%]time:0.05s Loss:0.00000 Correct:22/22 Acc:100.000%\n",
            "\n",
            "Epoch : 17\n",
            "Testing ...\n",
            "[progress:100.0%]time:0.05s Loss:0.00000 Correct:22/22 Acc:100.000%\n",
            "\n",
            "Epoch : 18\n",
            "Testing ...\n",
            "[progress:100.0%]time:0.05s Loss:0.00000 Correct:22/22 Acc:100.000%\n",
            "\n",
            "Epoch : 19\n",
            "Testing ...\n",
            "[progress:100.0%]time:0.05s Loss:0.00000 Correct:22/22 Acc:100.000%\n",
            "\n",
            "Epoch : 20\n",
            "Testing ...\n",
            "[progress:100.0%]time:0.05s Loss:0.00000 Correct:22/22 Acc:100.000%\n",
            "Learning rate adjusted to 0.010000000000000002\n",
            "\n",
            "Epoch : 21\n",
            "Testing ...\n",
            "[progress:100.0%]time:0.05s Loss:0.00000 Correct:22/22 Acc:100.000%\n",
            "\n",
            "Epoch : 22\n",
            "Testing ...\n",
            "[progress:100.0%]time:0.06s Loss:0.00000 Correct:22/22 Acc:100.000%\n",
            "\n",
            "Epoch : 23\n",
            "Testing ...\n",
            "[progress:100.0%]time:0.05s Loss:0.00000 Correct:22/22 Acc:100.000%\n",
            "\n",
            "Epoch : 24\n",
            "Testing ...\n",
            "[progress:100.0%]time:0.05s Loss:0.00000 Correct:22/22 Acc:100.000%\n",
            "\n",
            "Epoch : 25\n",
            "Testing ...\n",
            "[progress:100.0%]time:0.05s Loss:0.00000 Correct:22/22 Acc:100.000%\n",
            "\n",
            "Epoch : 26\n",
            "Testing ...\n",
            "[progress:100.0%]time:0.05s Loss:0.00000 Correct:22/22 Acc:100.000%\n",
            "\n",
            "Epoch : 27\n",
            "Testing ...\n",
            "[progress:100.0%]time:0.05s Loss:0.00000 Correct:22/22 Acc:100.000%\n",
            "\n",
            "Epoch : 28\n",
            "Testing ...\n",
            "[progress:100.0%]time:0.05s Loss:0.00000 Correct:22/22 Acc:100.000%\n",
            "\n",
            "Epoch : 29\n",
            "Testing ...\n",
            "[progress:100.0%]time:0.05s Loss:0.00000 Correct:22/22 Acc:100.000%\n",
            "\n",
            "Epoch : 30\n",
            "Testing ...\n",
            "[progress:100.0%]time:0.05s Loss:0.00000 Correct:22/22 Acc:100.000%\n",
            "\n",
            "Epoch : 31\n",
            "Testing ...\n",
            "[progress:100.0%]time:0.05s Loss:0.00000 Correct:22/22 Acc:100.000%\n",
            "\n",
            "Epoch : 32\n",
            "Testing ...\n",
            "[progress:100.0%]time:0.05s Loss:0.00000 Correct:22/22 Acc:100.000%\n",
            "\n",
            "Epoch : 33\n",
            "Testing ...\n",
            "[progress:100.0%]time:0.05s Loss:0.00000 Correct:22/22 Acc:100.000%\n",
            "\n",
            "Epoch : 34\n",
            "Testing ...\n",
            "[progress:100.0%]time:0.05s Loss:0.00000 Correct:22/22 Acc:100.000%\n",
            "\n",
            "Epoch : 35\n",
            "Testing ...\n",
            "[progress:100.0%]time:0.05s Loss:0.00000 Correct:22/22 Acc:100.000%\n",
            "\n",
            "Epoch : 36\n",
            "Testing ...\n",
            "[progress:100.0%]time:0.05s Loss:0.00000 Correct:22/22 Acc:100.000%\n",
            "\n",
            "Epoch : 37\n",
            "Testing ...\n",
            "[progress:100.0%]time:0.05s Loss:0.00000 Correct:22/22 Acc:100.000%\n",
            "\n",
            "Epoch : 38\n",
            "Testing ...\n",
            "[progress:100.0%]time:0.07s Loss:0.00000 Correct:22/22 Acc:100.000%\n",
            "\n",
            "Epoch : 39\n",
            "Testing ...\n",
            "[progress:100.0%]time:0.06s Loss:0.00000 Correct:22/22 Acc:100.000%\n",
            "\n",
            "Epoch : 40\n",
            "Testing ...\n",
            "[progress:100.0%]time:0.06s Loss:0.00000 Correct:22/22 Acc:100.000%\n",
            "Learning rate adjusted to 0.0010000000000000002\n"
          ]
        }
      ],
      "source": [
        "!python train.py"
      ]
    },
    {
      "cell_type": "code",
      "execution_count": null,
      "metadata": {
        "id": "hzF4Ct1e_HqL"
      },
      "outputs": [],
      "source": []
    }
  ],
  "metadata": {
    "accelerator": "GPU",
    "colab": {
      "provenance": [],
      "include_colab_link": true
    },
    "gpuClass": "standard",
    "kernelspec": {
      "display_name": "Python 3",
      "name": "python3"
    },
    "language_info": {
      "name": "python"
    }
  },
  "nbformat": 4,
  "nbformat_minor": 0
}